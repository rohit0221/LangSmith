{
 "cells": [
  {
   "cell_type": "code",
   "execution_count": 1,
   "metadata": {},
   "outputs": [],
   "source": [
    "import os\n",
    "from dotenv import load_dotenv\n",
    "load_dotenv()\n",
    "os.environ[\"LANGCHAIN_API_KEY\"]=os.environ.get('LANGCHAIN_API_KEY')\n",
    "os.environ[\"LANGCHAIN_TRACING_V2\"]=\"true\"\n",
    "os.environ[\"LANGCHAIN_PROJECT\"]=\"langsmith-basics\""
   ]
  },
  {
   "cell_type": "code",
   "execution_count": 2,
   "metadata": {},
   "outputs": [],
   "source": [
    "from langsmith import Client\n",
    "from langsmith.evaluation import evaluate\n"
   ]
  },
  {
   "cell_type": "markdown",
   "metadata": {},
   "source": [
    "instance of Client is created to interact with the LangSmith service, allowing you to create datasets and run evaluations."
   ]
  },
  {
   "cell_type": "code",
   "execution_count": null,
   "metadata": {},
   "outputs": [],
   "source": [
    "\n",
    "client = Client()\n"
   ]
  },
  {
   "cell_type": "code",
   "execution_count": null,
   "metadata": {},
   "outputs": [],
   "source": [
    "Defining the Dataset\n"
   ]
  },
  {
   "cell_type": "code",
   "execution_count": null,
   "metadata": {},
   "outputs": [],
   "source": [
    "\n",
    "# Define dataset: these are your test cases\n",
    "dataset_name = \"Sample Dataset\"\n",
    "dataset = client.create_dataset(dataset_name, description=\"A sample dataset in LangSmith.\")\n",
    "client.create_examples(\n",
    "    inputs=[\n",
    "        {\"postfix\": \"to LangSmith\"},\n",
    "        {\"postfix\": \"to Evaluations in LangSmith\"},\n",
    "    ],\n",
    "    outputs=[\n",
    "        {\"output\": \"Welcome to LangSmith\"},\n",
    "        {\"output\": \"Welcome to Evaluations in LangSmith\"},\n",
    "    ],\n",
    "    dataset_id=dataset.id,\n",
    ")\n"
   ]
  },
  {
   "cell_type": "markdown",
   "metadata": {},
   "source": [
    "A custom evaluator function that compares the model's output (run.outputs[\"output\"]) with the expected output (example.outputs[\"output\"]). If they match exactly, it returns a score of True (or 1), otherwise False (or 0)."
   ]
  },
  {
   "cell_type": "code",
   "execution_count": 3,
   "metadata": {},
   "outputs": [],
   "source": [
    "# Define your evaluator\n",
    "def exact_match(run, example):\n",
    "    return {\"score\": run.outputs[\"output\"] == example.outputs[\"output\"]}"
   ]
  },
  {
   "cell_type": "code",
   "execution_count": 7,
   "metadata": {},
   "outputs": [
    {
     "name": "stdout",
     "output_type": "stream",
     "text": [
      "View the evaluation results for experiment: 'sample-experiment-dd376005' at:\n",
      "https://smith.langchain.com/o/73f54c34-84e1-5516-a9cc-5d9ae836cbdd/datasets/f5cfcac9-550f-485a-9d4a-278ab16bb221/compare?selectedSessions=616d70ae-6862-44d1-ac80-cf85ad4f60b6\n",
      "\n",
      "\n"
     ]
    },
    {
     "name": "stderr",
     "output_type": "stream",
     "text": [
      "2it [00:00,  2.26it/s]\n"
     ]
    }
   ],
   "source": [
    "experiment_results = evaluate(\n",
    "    lambda input: \"Welcome \" + input['postfix'], # Your AI system goes here\n",
    "    data=dataset_name, # The data to predict and grade over\n",
    "    evaluators=[exact_match], # The evaluators to score the results\n",
    "    experiment_prefix=\"sample-experiment\", # The name of the experiment\n",
    "    metadata={\n",
    "      \"version\": \"1.0.0\",\n",
    "      \"revision_id\": \"beta\"\n",
    "    },\n",
    ")"
   ]
  },
  {
   "cell_type": "code",
   "execution_count": null,
   "metadata": {},
   "outputs": [],
   "source": []
  },
  {
   "cell_type": "code",
   "execution_count": null,
   "metadata": {},
   "outputs": [],
   "source": []
  },
  {
   "cell_type": "code",
   "execution_count": null,
   "metadata": {},
   "outputs": [],
   "source": []
  },
  {
   "cell_type": "code",
   "execution_count": null,
   "metadata": {},
   "outputs": [],
   "source": []
  },
  {
   "cell_type": "code",
   "execution_count": null,
   "metadata": {},
   "outputs": [],
   "source": []
  }
 ],
 "metadata": {
  "kernelspec": {
   "display_name": "venv",
   "language": "python",
   "name": "python3"
  },
  "language_info": {
   "codemirror_mode": {
    "name": "ipython",
    "version": 3
   },
   "file_extension": ".py",
   "mimetype": "text/x-python",
   "name": "python",
   "nbconvert_exporter": "python",
   "pygments_lexer": "ipython3",
   "version": "3.10.0"
  }
 },
 "nbformat": 4,
 "nbformat_minor": 2
}
